{
 "cells": [
  {
   "cell_type": "markdown",
   "id": "1aa854a2-91ba-4a41-9a00-c9c574cc213a",
   "metadata": {},
   "source": [
    "# RAG vs CAG\n",
    "\n",
    "Для експерименту необхідний інстанс який має до 16Гб VRAM. \n",
    "\n",
    "Перед початком потрібно мати акаунт в HF та створити запит на використання моделі своїм аккантом: https://huggingface.co/meta-llama/Llama-3.1-8B-Instruct\n",
    "\n",
    "В поле нижче вставьте свій HF токен, який ви можете отримати за посиланням: https://huggingface.co/settings/tokens"
   ]
  },
  {
   "cell_type": "code",
   "execution_count": 1,
   "id": "d1de6453-c883-4b51-8751-e996bfeb0d25",
   "metadata": {},
   "outputs": [
    {
     "data": {
      "application/vnd.jupyter.widget-view+json": {
       "model_id": "869f1d4a9d384115bee1bd2c16045cab",
       "version_major": 2,
       "version_minor": 0
      },
      "text/plain": [
       "VBox(children=(HTML(value='<center> <img\\nsrc=https://huggingface.co/front/assets/huggingface_logo-noborder.sv…"
      ]
     },
     "metadata": {},
     "output_type": "display_data"
    }
   ],
   "source": [
    "from huggingface_hub import login\n",
    "\n",
    "login()"
   ]
  },
  {
   "cell_type": "code",
   "execution_count": 2,
   "id": "6952ee73-9ca9-4953-98d3-ec661be425fa",
   "metadata": {},
   "outputs": [],
   "source": [
    "import time\n",
    "import random\n",
    "\n",
    "import numpy as np\n",
    "import torch\n",
    "from transformers import (\n",
    "    AutoModelForCausalLM,\n",
    "    AutoTokenizer,\n",
    "    GenerationConfig,\n",
    "    BitsAndBytesConfig,\n",
    "    set_seed\n",
    ")\n",
    "\n",
    "# Set seeds for reproducibility\n",
    "SEED = 42\n",
    "random.seed(SEED)\n",
    "np.random.seed(SEED)\n",
    "torch.manual_seed(SEED)\n",
    "if torch.cuda.is_available():\n",
    "    torch.cuda.manual_seed_all(SEED)\n",
    "set_seed(SEED)\n",
    "\n",
    "# Set deterministic GPU\n",
    "torch.backends.cudnn.deterministic = True\n",
    "torch.backends.cudnn.benchmark = False\n",
    "\n",
    "device = \"cuda\" if torch.cuda.is_available() else \"cpu\"\n",
    "hf_model_id = \"meta-llama/Llama-3.1-8B-Instruct\""
   ]
  },
  {
   "cell_type": "code",
   "execution_count": 3,
   "id": "48135f9f-e8c1-4166-927f-db49caf1ea75",
   "metadata": {
    "scrolled": true
   },
   "outputs": [
    {
     "data": {
      "application/vnd.jupyter.widget-view+json": {
       "model_id": "6efe19f79bfd4067bf3f9f53e142603c",
       "version_major": 2,
       "version_minor": 0
      },
      "text/plain": [
       "Loading checkpoint shards:   0%|          | 0/4 [00:00<?, ?it/s]"
      ]
     },
     "metadata": {},
     "output_type": "display_data"
    }
   ],
   "source": [
    "quantization_config = BitsAndBytesConfig(\n",
    "    load_in_4bit=True,\n",
    "    bnb_4bit_use_double_quant=True,\n",
    "    bnb_4bit_compute_dtype=torch.bfloat16\n",
    ")\n",
    "model_4bit = AutoModelForCausalLM.from_pretrained(\n",
    "    hf_model_id,\n",
    "    quantization_config=quantization_config,\n",
    "    device_map=device,\n",
    ")\n",
    "tokenizer = AutoTokenizer.from_pretrained(hf_model_id, device_map=device)"
   ]
  },
  {
   "cell_type": "markdown",
   "id": "82cfc6c5-19a4-494e-b90f-7e32c1100a47",
   "metadata": {},
   "source": [
    "## Параметризація моделі\n",
    "\n",
    "Я використав семплінг через те що без нього результати генерації з контекстом та RAG повертали пусті значення."
   ]
  },
  {
   "cell_type": "code",
   "execution_count": 4,
   "id": "23af1f37-75e0-48bf-a78f-ea9081639346",
   "metadata": {},
   "outputs": [],
   "source": [
    "generation_config, unused_kwargs = GenerationConfig.from_pretrained(\n",
    "    hf_model_id,\n",
    "    return_unused_kwargs=True,\n",
    "    # do_sample=True,\n",
    "    temperature=0.1,\n",
    "    max_new_tokens=200,\n",
    "    pad_token_id=tokenizer.eos_token_id\n",
    ")\n",
    "model_4bit.generation_config = generation_config"
   ]
  },
  {
   "cell_type": "markdown",
   "id": "2ff1c24d-4da5-463a-ac22-dd653328c4cd",
   "metadata": {},
   "source": [
    "Ініціалізація шаблону чату для LLAMA моделі"
   ]
  },
  {
   "cell_type": "code",
   "execution_count": 5,
   "id": "1b2355a3-d277-489b-a8bf-d0c2c35ac9ad",
   "metadata": {},
   "outputs": [],
   "source": [
    "chat_template = \"\"\"{% if messages[0]['role'] == 'system' %}\n",
    "    {% set offset = 1 %}\n",
    "{% else %}\n",
    "    {% set offset = 0 %}\n",
    "{% endif %}\n",
    "\n",
    "{{ bos_token }}\n",
    "{% for message in messages %}\n",
    "    {% if (message['role'] == 'user') != (loop.index0 % 2 == offset) %}\n",
    "        {{ raise_exception('Conversation roles must alternate user/assistant/user/assistant/...') }}\n",
    "    {% endif %}\n",
    "\n",
    "    {{ '<|start_header_id|>' + message['role'] + '<|end_header_id|>\\n\\n' + message['content'] | trim + '<|eot_id|>' }}\n",
    "{% endfor %}\n",
    "\n",
    "{% if add_generation_prompt %}\n",
    "    {{ '<|start_header_id|>' + 'assistant' + '<|end_header_id|>\\n\\n' }}\n",
    "{% endif %}\n",
    "\"\"\"\n",
    "\n",
    "tokenizer.chat_template = chat_template"
   ]
  },
  {
   "cell_type": "markdown",
   "id": "50f8b349-7a91-42b2-a416-68b512a28ae9",
   "metadata": {},
   "source": [
    "## Генерація без використання контексту"
   ]
  },
  {
   "cell_type": "code",
   "execution_count": 6,
   "id": "f545d3f5-1e5e-4a95-85e3-d366494abaf6",
   "metadata": {
    "scrolled": true
   },
   "outputs": [
    {
     "name": "stdout",
     "output_type": "stream",
     "text": [
      "<|eot_id|>\n"
     ]
    }
   ],
   "source": [
    "def get_input_tokens(tokenizer, chat: list[dict]) -> dict:\n",
    "    \"\"\"\n",
    "    Converts a list of chat messages into input tokens suitable for a HuggingFace model.\n",
    "\n",
    "    This function applies the tokenizer's chat template to a chat conversation,\n",
    "    tokenizes the input, and returns a dictionary containing input tensors\n",
    "    (e.g., input_ids, attention_mask) for model inference.\n",
    "\n",
    "    Args:\n",
    "        tokenizer: HuggingFace tokenizer with a defined chat template.\n",
    "        chat: Conversation represented as a list of message dicts,\n",
    "            where each dict has 'role' (e.g., 'system', 'user') and 'content' (str).\n",
    "\n",
    "    Returns:\n",
    "        Dictionary of model-ready input tensors, such as 'input_ids' and 'attention_mask'.\n",
    "    \"\"\"\n",
    "    return tokenizer.apply_chat_template(\n",
    "        chat,\n",
    "        tokenize=True,\n",
    "        return_dict=True,\n",
    "        continue_final_message=True,\n",
    "        return_tensors='pt'\n",
    "    )\n",
    "\n",
    "\n",
    "def generate_completion(model, tokenizer, chat: list[dict]) -> tuple[str, int]:\n",
    "    \"\"\"\n",
    "    Generates text with sampling and applied chat-template.\n",
    "\n",
    "     Args:\n",
    "        model: HuggingFace model\n",
    "        tokenizer: HuggingFace tokenizer\n",
    "        chat: list of system and user's prompts\n",
    "\n",
    "    Returns:\n",
    "        Generated completion with number of input tokens.\n",
    "    \"\"\"\n",
    "    input_tokens = get_input_tokens(tokenizer, chat)\n",
    "    input_tokens.to(device)\n",
    "    outputs = model.generate(**input_tokens)\n",
    "    input_length = input_tokens.input_ids.shape[1]\n",
    "    generated_tokens = outputs[0, input_length:]\n",
    "    generated_answer = tokenizer.decode(generated_tokens, special_tokens=False)\n",
    "    return generated_answer, input_tokens[\"input_ids\"].shape[-1]\n",
    "\n",
    "\n",
    "SYSTEM_PROMPT = \"\"\"\n",
    "You are an experienced pop culture observer who is eager to help others learn about pop culture.\n",
    "Answer questions with a concise response or just a few sentences. Answer in ukrainian language.\n",
    "\"\"\"\n",
    "\n",
    "chat = [\n",
    "    {\"role\": \"system\", \"content\": SYSTEM_PROMPT},\n",
    "    {\"role\": \"user\", \"content\": \"Who is Stepan Giga?\"},\n",
    "]\n",
    "generated_text, _ = generate_completion(model_4bit, tokenizer, chat)\n",
    "print(generated_text)"
   ]
  },
  {
   "cell_type": "markdown",
   "id": "23dac18e-c64a-4477-aa7b-cb3f58f638ef",
   "metadata": {},
   "source": [
    "## Генерація з контекстом\n",
    "\n",
    "Контекст був створений на базі офіційної сторінки вікіпедії про [Степана Гігу](https://uk.wikipedia.org/wiki/%D0%93%D1%96%D0%B3%D0%B0_%D0%A1%D1%82%D0%B5%D0%BF%D0%B0%D0%BD_%D0%9F%D0%B5%D1%82%D1%80%D0%BE%D0%B2%D0%B8%D1%87), та попередньою обробкою через ChatGPT."
   ]
  },
  {
   "cell_type": "markdown",
   "id": "4728fe35-5243-4a27-8d3b-927b5b41fe92",
   "metadata": {},
   "source": [
    "### Інформація з вікіпедії про Степана Гігу"
   ]
  },
  {
   "cell_type": "code",
   "execution_count": 7,
   "id": "47e17b24-9298-444d-8109-adfa8d596d35",
   "metadata": {
    "scrolled": true
   },
   "outputs": [
    {
     "name": "stdout",
     "output_type": "stream",
     "text": [
      "Гіга Степан Петрович (іноді Ґіґа , 16 листопада 1959 ( 1959-11-16 ) , Білки , Закарпатська область )— український естрадний співак ( тенор ), композитор , народний артист України (2002).\n",
      "\n",
      "# Життєпис\n",
      "\n",
      "Степан Гіга народився 16 листопада 1959 року в селі Білки на Закарпатті. Коли навчався в загальноосвітній школі, то брав уроки вокалу та гри на баяні у місцевого вчителя музики Михайла Копинця. Однак до Ужгородського музучилища він вступив лише з четвертої спроби: після 8, 9 та 10 класу стати студентом не вдалося. Тому, закінчивши десятирічку, він пішов працювати слюсарем до місцевої сільгосптехніки, а згодом— водієм вантажівки. Звідти— в армію, а ще через два роки, після повернення із війська, Степан врешті став учнем Ужгородського музучилища.\n",
      "\n",
      "Ще від 7 класу і до самого закінчення музучилища Степан Гіга був учасником ансамблю «Зелені Карпати», згодом став керівником цього колективу. «Саме у „Зелених Карпатах“ я формувався як музикант,— стверджує Степан Гіга,— тут я вперше зустрівся з професійною музикою та навчився грати на всіх музичних інструментах».\n",
      "\n",
      "В Ужгородському музучилищі Степан Гіга навчався лише три роки (1980—1983) замість чотирьох— склав іспити екстерном, і в тому ж 1983 році вступив до Київської консерваторії на вокальний факультет, де навчався у класі професора, завідувача кафедрою, народного артиста України Костянтина Огнєвого .\n",
      "\n",
      "Навчаючись у консерваторії, Степан Гіга отримав спеціальний дозвіл Міністерства культури Української РСР про вільне відвідування навчального процесу. Це звільняло його від лекцій та семінарів, але не від іспитів та заліків. Хоча і цей вільний час дозволив брати участь і перемагати в понад десяти різноманітних конкурсах і фестивалях.\n",
      "\n",
      "На другому курсі консерваторії Степан Гіга став солістом надзвичайно популярної на той час синтез-групи «Стожари» (при Чернігівській філармонії ), одночасно працював солістом оперної студії Київської консерваторії, якою керував народний артист СРСР Дмитро Гнатюк .\n",
      "\n",
      "Після закінчення консерваторії музикант отримав направлення на роботу солістом Національної опери , але, зваживши всі «за» і «проти», Степан відмовився. Саме через це йому вдалося отримати диплом про закінчення вищого закладу лише через півроку. У цей час він отримує кілька пропозицій щодо подальшої роботи, в тому числі й від Волинської філармонії , де спеціально для нього була створена група «Рандеву». Однак він відмовляється і повертається на рідне Закарпаття— і в 1988 році стає солістом Закарпатської обласної філармонії . Через рік Степан Гіга створив джаз-рок групу «Бескид».\n",
      "\n",
      "У 1991 році, коли цей гурт розформували, Степан Гіга залишився без роботи. Саме тоді він вперше спробував займатись аранжуванням , почав писати пісні, а згодом створив власну студію звукозапису «GIGARecords».\n",
      "\n",
      "У 1995 році виходить перший сольний альбом співака «Друзі мої». Згодом з'явилися ще два: «Вулиця Наталі» та «Троянди для тебе».\n",
      "\n",
      "Альбом «Вулиця Наталі» (тиражуванням займалася студія звукозапису з Калуша «6 секунд») став для Степана доленосним— у 2002 році тираж сягнув одного мільйону проданих копій. І як результат— Степан Гіга першим в незалежній Україні отримав Золотий диск.\n",
      "\n",
      "20 лютого 1998 року стає заслуженим артистом України, а вже за чотири роки, 28 грудня 2002 року, отримав звання народного артиста України.\n",
      "\n",
      "За 10 років Степан Гіга випустив три сольних альбоми, дві відеокасети з кліпами («Друзі мої» та «Вулиця Наталі»), ще одну відеокасету— з врученням Золотого диску. 17 листопада 2005 року в Івано-Франківську відбулася презентація першого в Україні подвійного DVD співака. На двох дисках (І— «Вулиця Наталі», ІІ— «Троянди для тебе»)— версія «живих» концертів всеукраїнського туру, який проходив напередодні на підтримку нового альбому «Троянди для тебе».\n",
      "\n",
      "У 1989 році був створений гурт «Друзі мої» (художній керівник Павло Петренко), з яким Степан Гіга працює дотепер.\n",
      "\n",
      "Кілька років тому [ коли? ] на базі студії «GIGARecords» співак створив Мистецьку агенцію Степана Гіги, де навчаються молоді виконавці. «Я не займаюсь продюсуванням цих дітей,— говорить Степан Гіга,— але намагаюсь навчити їх, записати перші пісні, допомагаю їм стати на ноги. І, що дуже важливо, даю можливість виступити поруч зі мною на великій сцені.»\n",
      "\n",
      "За заслуги перед українським народом і за розвиток української культури Степан Гіга у 2002 році був нагороджений золотим орденом князя Костянтина Острозького І ступеня, у листопаді 2005— отримав срібний орден Андрея Первозванного ІІ ступеня, а через кілька місяців, у січні 2006-го, йому вручили золотий орден Андрея Первозванного І ступеня.\n",
      "\n",
      "Степан Гіга одружений, виховує двох дітей. Дружина Галина— колишня адміністраторка Закарпатської філармонії, зараз— директорка студії звукозапису «GIGARecords». Донька Квітослава і син Степан часто гастролюють разом із татом із сольними номерами і найчастіше виконують пісні на музику батька.\n",
      "\n",
      "# Дискографія\n",
      "\n",
      "1995— «Друзі мої» 1997— «Королева», Студія «ALEX» 2001— «Вулиця Наталі», Студія «6 Секунд» 2004— «Троянди Для Тебе», Студія «6 Секунд» 2014— «Дорога до храму», Студія «6 Секунд»\n",
      "\n",
      "# Нагороди, премії та відзнаки\n",
      "\n",
      "Заслужений артист України (1998) ; Орден князя Костянтина Острозького 1-го ступеня (2000); Народний артист України (2002); Орден «Козацька слави» 3-го ступеня (2003); Відзнака «Золотий диск» (м. Мюнхен , 2003); Орден «Різдво Христове» (2004); Орден Андрія Первозванного ІІ ступеня (2005); Орден Андрія Первозванного І ступеня (2006); Орден «За заслуги» ІІІ ступеня (2009) .\n"
     ]
    }
   ],
   "source": [
    "with open(\"stepan_giga_summary_full.md\", mode=\"r\") as file:\n",
    "    giga_summary = file.read()\n",
    "    giga_summary = giga_summary.replace(\"\\xa0\", \"\")\n",
    "print(giga_summary)"
   ]
  },
  {
   "cell_type": "markdown",
   "id": "0f99d6b1-620d-47b9-aa1e-bc2f52dcc927",
   "metadata": {},
   "source": [
    "### Рузльтат генерації"
   ]
  },
  {
   "cell_type": "code",
   "execution_count": 8,
   "id": "2d81fd77-15be-4ca1-8f49-ab061c669ae9",
   "metadata": {},
   "outputs": [],
   "source": [
    "def measure_generation_stats(func):\n",
    "    def _measure_generation_stats(*args, **kwargs):\n",
    "        torch.cuda.reset_peak_memory_stats() \n",
    "        \n",
    "        start = time.perf_counter()\n",
    "        generated_text, n_tokens = func(*args, **kwargs)\n",
    "        end = time.perf_counter()\n",
    "        generation_time = end - start\n",
    "        \n",
    "        vram_mb = torch.cuda.max_memory_allocated() / 1024**2\n",
    "        stats = {\n",
    "            \"input_tokens\": n_tokens,\n",
    "            \"generation_time\": generation_time,\n",
    "            \"vram\": vram_mb,\n",
    "        }\n",
    "        \n",
    "        print(f\"Кількість вхідних токенів: {n_tokens}\")\n",
    "        print(f\"Час на генерацію: {generation_time:.3f} секунд\")\n",
    "        print(f\"Пікове використання VRAM: {vram_mb:.2f} MB\")\n",
    "        \n",
    "        return generated_text, stats\n",
    "    return _measure_generation_stats"
   ]
  },
  {
   "cell_type": "code",
   "execution_count": 9,
   "id": "e68ecea2-da00-4fbd-90b0-4a4b4c3d4229",
   "metadata": {},
   "outputs": [
    {
     "name": "stdout",
     "output_type": "stream",
     "text": [
      "Кількість вхідних токенів: 1944\n",
      "Час на генерацію: 3.358 секунд\n",
      "Пікове використання VRAM: 6085.79 MB\n",
      " \n",
      "Що за людина Степан Гіга?\n",
      "\n",
      "Степан Гіга — український співак, композитор та народний артист України.<|eot_id|>\n"
     ]
    }
   ],
   "source": [
    "SYSTEM_PROMPT_WITH_CONTEXT = SYSTEM_PROMPT + f\"\"\"\n",
    "Please take the following context about Stepan Giga into account when answering:\n",
    "<|start_context|>\n",
    "{giga_summary}\n",
    "<|end_context|>\n",
    "\n",
    "\"\"\"\n",
    "\n",
    "chat = [\n",
    "    {\"role\": \"system\", \"content\": SYSTEM_PROMPT_WITH_CONTEXT},\n",
    "    {\"role\": \"user\", \"content\": \"Who is Stepan Giga?\"},\n",
    "]\n",
    "generated_text, stats_with_context = measure_generation_stats(generate_completion)(model_4bit, tokenizer, chat)\n",
    "print(generated_text)"
   ]
  },
  {
   "cell_type": "markdown",
   "id": "da1329c3-2368-4d31-99ab-3c185eb8f07b",
   "metadata": {},
   "source": [
    "## Генерація з RAG"
   ]
  },
  {
   "cell_type": "markdown",
   "id": "19738d6b-13b0-47cb-b9fc-b66d5ba3ead7",
   "metadata": {},
   "source": [
    "### Розбиття інформації з вікіпедії про Степана Гігу на документи для RAG"
   ]
  },
  {
   "cell_type": "code",
   "execution_count": 10,
   "id": "4d57a5b0-be8c-4b5e-83d4-321e77823c84",
   "metadata": {
    "scrolled": true
   },
   "outputs": [
    {
     "name": "stdout",
     "output_type": "stream",
     "text": [
      "Кількість документів: 4\n",
      "Гіга Степан Петрович (іноді Ґіґа , 16 листопада 1959 ( 1959-11-16 ) , Білки , Закарпатська область )— український естрадний співак ( тенор ), композитор , народний артист України (2002).\n",
      "\n",
      "\n",
      "\n",
      "Життєпис\n",
      "\n",
      "Степан Гіга народився 16 листопада 1959 року в селі Білки на Закарпатті. Коли навчався в загальноосвітній школі, то брав уроки вокалу та гри на баяні у місцевого вчителя музики Михайла Копинця. Однак до Ужгородського музучилища він вступив лише з четвертої спроби: після 8, 9 та 10 класу стати студентом не вдалося. Тому, закінчивши десятирічку, він пішов працювати слюсарем до місцевої сільгосптехніки, а згодом— водієм вантажівки. Звідти— в армію, а ще через два роки, після повернення із війська, Степан врешті став учнем Ужгородського музучилища.\n",
      "\n",
      "Ще від 7 класу і до самого закінчення музучилища Степан Гіга був учасником ансамблю «Зелені Карпати», згодом став керівником цього колективу. «Саме у „Зелених Карпатах“ я формувався як музикант,— стверджує Степан Гіга,— тут я вперше зустрівся з професійною музикою та навчився грати на всіх музичних інструментах».\n",
      "\n",
      "В Ужгородському музучилищі Степан Гіга навчався лише три роки (1980—1983) замість чотирьох— склав іспити екстерном, і в тому ж 1983 році вступив до Київської консерваторії на вокальний факультет, де навчався у класі професора, завідувача кафедрою, народного артиста України Костянтина Огнєвого .\n",
      "\n",
      "Навчаючись у консерваторії, Степан Гіга отримав спеціальний дозвіл Міністерства культури Української РСР про вільне відвідування навчального процесу. Це звільняло його від лекцій та семінарів, але не від іспитів та заліків. Хоча і цей вільний час дозволив брати участь і перемагати в понад десяти різноманітних конкурсах і фестивалях.\n",
      "\n",
      "На другому курсі консерваторії Степан Гіга став солістом надзвичайно популярної на той час синтез-групи «Стожари» (при Чернігівській філармонії ), одночасно працював солістом оперної студії Київської консерваторії, якою керував народний артист СРСР Дмитро Гнатюк .\n",
      "\n",
      "Після закінчення консерваторії музикант отримав направлення на роботу солістом Національної опери , але, зваживши всі «за» і «проти», Степан відмовився. Саме через це йому вдалося отримати диплом про закінчення вищого закладу лише через півроку. У цей час він отримує кілька пропозицій щодо подальшої роботи, в тому числі й від Волинської філармонії , де спеціально для нього була створена група «Рандеву». Однак він відмовляється і повертається на рідне Закарпаття— і в 1988 році стає солістом Закарпатської обласної філармонії . Через рік Степан Гіга створив джаз-рок групу «Бескид».\n",
      "\n",
      "У 1991 році, коли цей гурт розформували, Степан Гіга залишився без роботи. Саме тоді він вперше спробував займатись аранжуванням , почав писати пісні, а згодом створив власну студію звукозапису «GIGARecords».\n",
      "\n",
      "У 1995 році виходить перший сольний альбом співака «Друзі мої». Згодом з'явилися ще два: «Вулиця Наталі» та «Троянди для тебе».\n",
      "\n",
      "Альбом «Вулиця Наталі» (тиражуванням займалася студія звукозапису з Калуша «6 секунд») став для Степана доленосним— у 2002 році тираж сягнув одного мільйону проданих копій. І як результат— Степан Гіга першим в незалежній Україні отримав Золотий диск.\n",
      "\n",
      "20 лютого 1998 року стає заслуженим артистом України, а вже за чотири роки, 28 грудня 2002 року, отримав звання народного артиста України.\n",
      "\n",
      "За 10 років Степан Гіга випустив три сольних альбоми, дві відеокасети з кліпами («Друзі мої» та «Вулиця Наталі»), ще одну відеокасету— з врученням Золотого диску. 17 листопада 2005 року в Івано-Франківську відбулася презентація першого в Україні подвійного DVD співака. На двох дисках (І— «Вулиця Наталі», ІІ— «Троянди для тебе»)— версія «живих» концертів всеукраїнського туру, який проходив напередодні на підтримку нового альбому «Троянди для тебе».\n",
      "\n",
      "У 1989 році був створений гурт «Друзі мої» (художній керівник Павло Петренко), з яким Степан Гіга працює дотепер.\n",
      "\n",
      "Кілька років тому [ коли? ] на базі студії «GIGARecords» співак створив Мистецьку агенцію Степана Гіги, де навчаються молоді виконавці. «Я не займаюсь продюсуванням цих дітей,— говорить Степан Гіга,— але намагаюсь навчити їх, записати перші пісні, допомагаю їм стати на ноги. І, що дуже важливо, даю можливість виступити поруч зі мною на великій сцені.»\n",
      "\n",
      "За заслуги перед українським народом і за розвиток української культури Степан Гіга у 2002 році був нагороджений золотим орденом князя Костянтина Острозького І ступеня, у листопаді 2005— отримав срібний орден Андрея Первозванного ІІ ступеня, а через кілька місяців, у січні 2006-го, йому вручили золотий орден Андрея Первозванного І ступеня.\n",
      "\n",
      "Степан Гіга одружений, виховує двох дітей. Дружина Галина— колишня адміністраторка Закарпатської філармонії, зараз— директорка студії звукозапису «GIGARecords». Донька Квітослава і син Степан часто гастролюють разом із татом із сольними номерами і найчастіше виконують пісні на музику батька.\n",
      "\n",
      "\n",
      "\n",
      "Дискографія\n",
      "\n",
      "1995— «Друзі мої» 1997— «Королева», Студія «ALEX» 2001— «Вулиця Наталі», Студія «6 Секунд» 2004— «Троянди Для Тебе», Студія «6 Секунд» 2014— «Дорога до храму», Студія «6 Секунд»\n",
      "\n",
      "\n",
      "\n",
      "Нагороди, премії та відзнаки\n",
      "\n",
      "Заслужений артист України (1998) ; Орден князя Костянтина Острозького 1-го ступеня (2000); Народний артист України (2002); Орден «Козацька слави» 3-го ступеня (2003); Відзнака «Золотий диск» (м. Мюнхен , 2003); Орден «Різдво Христове» (2004); Орден Андрія Первозванного ІІ ступеня (2005); Орден Андрія Первозванного І ступеня (2006); Орден «За заслуги» ІІІ ступеня (2009) .\n",
      "\n"
     ]
    }
   ],
   "source": [
    "giga_summary_documents = giga_summary.split(\"# \")\n",
    "# giga_summary_documents = giga_summary.split(\"\\n\\n\")\n",
    "print(f\"Кількість документів: {len(giga_summary_documents)}\")\n",
    "for giga_document in giga_summary_documents:\n",
    "    print(giga_document, end=\"\\n\\n\")"
   ]
  },
  {
   "cell_type": "code",
   "execution_count": 11,
   "id": "74411b46-83c2-4abb-9f95-fa7c5a9c1bb5",
   "metadata": {},
   "outputs": [
    {
     "data": {
      "text/plain": [
       "['Гіга Степан Петрович (іноді Ґіґа , 16 листопада 1959 ( 1959-11-16 ) , Білки , Закарпатська область )— український естрадний співак ( тенор ), композитор , народний артист України (2002).\\n\\n',\n",
       " 'Дискографія\\n\\n1995— «Друзі мої» 1997— «Королева», Студія «ALEX» 2001— «Вулиця Наталі», Студія «6 Секунд» 2004— «Троянди Для Тебе», Студія «6 Секунд» 2014— «Дорога до храму», Студія «6 Секунд»\\n\\n']"
      ]
     },
     "execution_count": 11,
     "metadata": {},
     "output_type": "execute_result"
    }
   ],
   "source": [
    "from sentence_transformers import SentenceTransformer\n",
    "import faiss\n",
    "import numpy as np\n",
    "\n",
    "\n",
    "class SimpleRAG:\n",
    "    \"\"\"\n",
    "    Simple Retrieval-Augmented Generation (RAG) utility.\n",
    "    \n",
    "    This class embeds a list of documents, creates a FAISS vector index,\n",
    "    and enables fast retrieval of the most relevant documents for a given query.\n",
    "    \"\"\"\n",
    "\n",
    "    def __init__(self, documents: list[str]):\n",
    "        \"\"\"\n",
    "        Initialize the SimpleRAG retriever.\n",
    "        \n",
    "        Args:\n",
    "            documents: List of documents (strings) to index and retrieve from.\n",
    "        \"\"\"\n",
    "        self.documents = documents\n",
    "        self.embeddings_model = SentenceTransformer(\"all-MiniLM-L6-v2\")\n",
    "        embeddings = self.embeddings_model.encode(documents, convert_to_numpy=True)\n",
    "        # Step 2: Create FAISS index\n",
    "        dimension = embeddings.shape[1]\n",
    "        self.index = faiss.IndexFlatL2(dimension)  # L2 = Euclidean distance\n",
    "        self.index.add(embeddings)\n",
    "\n",
    "    def retrieve(self, query: str, top_k: int=2) -> list[str]:\n",
    "        \"\"\"\n",
    "        Retrieve the top_k most relevant documents for a query.\n",
    "        \n",
    "        Args:\n",
    "            query: The query string to search for relevant documents.\n",
    "            top_k: The number of top documents to retrieve. Default is 2.\n",
    "        \n",
    "        Returns:\n",
    "            List of retrieved documents, ranked by relevance to the query.\n",
    "        \"\"\"\n",
    "        query_embedding = self.embeddings_model.encode([query], convert_to_numpy=True)\n",
    "        distances, indices = self.index.search(query_embedding, k=top_k)  # top_k results\n",
    "        return [self.documents[i] for i in indices[0]]\n",
    "\n",
    "\n",
    "simple_rag = SimpleRAG(giga_summary_documents)\n",
    "simple_rag.retrieve(\"Who is Stepan Giga?\")"
   ]
  },
  {
   "cell_type": "markdown",
   "id": "e8a1f551-8481-4f0d-82ae-9588248ccc77",
   "metadata": {},
   "source": [
    "### Результат генерації"
   ]
  },
  {
   "cell_type": "code",
   "execution_count": 12,
   "id": "195e7734-e06d-415b-a738-8c6c0d4b125a",
   "metadata": {},
   "outputs": [
    {
     "name": "stdout",
     "output_type": "stream",
     "text": [
      "Кількість вхідних токенів: 250\n",
      "Час на генерацію: 2.071 секунд\n",
      "Пікове використання VRAM: 5901.13 MB\n",
      " \n",
      "Степан Гіга - український співак, композитор та актор.<|eot_id|>\n"
     ]
    }
   ],
   "source": [
    "def generate_completion_with_RAG(\n",
    "    model,\n",
    "    tokenizer,\n",
    "    chat: list[dict],\n",
    "    rag_retriever: SimpleRAG,\n",
    "    top_k: int\n",
    ") -> tuple[str, int]:\n",
    "    \"\"\"\n",
    "    Generate a language model completion using Retrieval-Augmented Generation (RAG).\n",
    "    \n",
    "    This function retrieves the top-k relevant documents from a retriever (such as SimpleRAG)\n",
    "    based on the user's last message in the chat, injects them as additional context into the\n",
    "    system prompt, and generates a model completion. The number of input tokens used for the prompt\n",
    "    is also returned for analysis.\n",
    "    \n",
    "    Args:\n",
    "        model: HuggingFace transformer model for generation.\n",
    "        tokenizer: HuggingFace tokenizer corresponding to the model.\n",
    "        chat: List of chat messages in the format \n",
    "            [{'role': 'system'/'user', 'content': <str>}].\n",
    "        rag_retriever: The retriever instance for relevant context.\n",
    "        top_k: Number of top documents to retrieve for context. Default is 2.\n",
    "    \n",
    "    Returns:\n",
    "        tuple: Generated text completion and number of input tokens.\n",
    "    \"\"\"\n",
    "    user_message = next((m['content'] for m in reversed(chat) if m['role'] == 'user'), \"\")\n",
    "    retrieved_docs = rag_retriever.retrieve(user_message, top_k=top_k)\n",
    "    context_block = \"\\n\\n\".join(retrieved_docs)\n",
    "    SYSTEM_PROMPT_WITH_RAG = (\n",
    "        SYSTEM_PROMPT + f\"\"\"\n",
    "Please take the following context about Stepan Giga into account when answering:\n",
    "<|start_context|>\n",
    "{context_block}\n",
    "<|start_context|>\n",
    "        \"\"\"\n",
    "    )\n",
    "    chat_with_rag = [\n",
    "        {\"role\": \"system\", \"content\": SYSTEM_PROMPT_WITH_RAG},\n",
    "        {\"role\": \"user\", \"content\": user_message}\n",
    "    ]\n",
    "    return generate_completion(model, tokenizer, chat_with_rag)\n",
    "\n",
    "\n",
    "# Suppose your SimpleRAG instance is named simple_rag\n",
    "simple_rag = SimpleRAG(giga_summary_documents)\n",
    "chat = [\n",
    "    {\"role\": \"system\", \"content\": SYSTEM_PROMPT},\n",
    "    {\"role\": \"user\", \"content\": \"Who is Stepan Giga?\"},\n",
    "]\n",
    "generated_text, stats_with_RAG = measure_generation_stats(generate_completion_with_RAG)(\n",
    "    model_4bit, \n",
    "    tokenizer, \n",
    "    chat, \n",
    "    simple_rag, \n",
    "    top_k=2\n",
    ")\n",
    "print(generated_text)"
   ]
  },
  {
   "cell_type": "markdown",
   "id": "722666b8-e74c-4907-81a4-6f2044ec629f",
   "metadata": {},
   "source": [
    "## Генерація з CAG"
   ]
  },
  {
   "cell_type": "markdown",
   "id": "6e4fb8c7-5a3e-4861-b301-c5150e7ac666",
   "metadata": {},
   "source": [
    "Код нижче базується на репозиторії з імплементацією [CAG](https://github.com/hhhuang/CAG/blob/main/kvcache.py)."
   ]
  },
  {
   "cell_type": "code",
   "execution_count": 13,
   "id": "d8abe05c-048a-4c19-ad27-bd42c7a3ea6c",
   "metadata": {},
   "outputs": [],
   "source": [
    "from transformers.cache_utils import DynamicCache\n",
    "\n",
    "def sample_with_temperature(logits, temperature=1.0):\n",
    "    logits = logits / temperature\n",
    "    probs = torch.softmax(logits, dim=-1)\n",
    "    next_token = torch.multinomial(probs, num_samples=1)\n",
    "    return next_token\n",
    "\n",
    "\n",
    "def clean_up(kv: DynamicCache, origin_len: int):\n",
    "    \"\"\"\n",
    "    Truncate the KV Cache to the original length.\n",
    "    \"\"\"\n",
    "    for i in range(len(kv.key_cache)):\n",
    "        kv.key_cache[i] = kv.key_cache[i][:, :, :origin_len, :]\n",
    "        kv.value_cache[i] = kv.value_cache[i][:, :, :origin_len, :]\n",
    "\n",
    "\n",
    "def generate_completion_with_CAG(\n",
    "    model,\n",
    "    tokenizer,\n",
    "    prompt: str,\n",
    "    past_key_values,\n",
    "    max_new_tokens: int | None = None\n",
    ") -> tuple[str, int]:\n",
    "    \"\"\"\n",
    "    Generates text with CAG cache and applied chat-template.\n",
    "\n",
    "    Args:\n",
    "        model: HuggingFace model\n",
    "        tokenizer: HuggingFace tokenizer\n",
    "        chat: list of system and user's prompts\n",
    "        past_key_values: KV Cache for knowledge\n",
    "        max_new_tokens: Maximum new tokens to generate\n",
    "\n",
    "    Returns:\n",
    "        Generated completion and number of input tokens.\n",
    "    \"\"\"\n",
    "    max_new_tokens = getattr(model.generation_config, \"max_new_tokens\", 200)\n",
    "    temperature = getattr(model.generation_config, \"temperature\", 1)\n",
    "\n",
    "    kv_len = past_key_values.key_cache[0].shape[-2]\n",
    "\n",
    "    prompt = f\"\"\"{prompt}<|eot_id|>\\n\\n<|start_header_id|>assistant<|end_header_id|>\\n\\n\"\"\"\n",
    "    # 1. Prepare input tokens\n",
    "    input_tokens = tokenizer(\n",
    "        prompt,\n",
    "        return_tensors='pt',\n",
    "    )\n",
    "    input_ids = input_tokens['input_ids'].to(model.device)\n",
    "    origin_ids = input_ids\n",
    "    num_input_tokens = input_ids.shape[-1]\n",
    "\n",
    "    output_ids = input_ids.clone()\n",
    "    next_token = input_ids\n",
    "\n",
    "    with torch.no_grad():\n",
    "        # Next token prediction\n",
    "        for _ in range(max_new_tokens):\n",
    "            outputs = model(\n",
    "                input_ids=next_token,\n",
    "                past_key_values=past_key_values,  # Insert knowledge cache\n",
    "                use_cache=True\n",
    "            )\n",
    "            next_token_logits = outputs.logits[:, -1, :]\n",
    "            next_token = sample_with_temperature(next_token_logits, temperature)\n",
    "            next_token = next_token.to(model.device)\n",
    "            past_key_values = outputs.past_key_values\n",
    "            output_ids = torch.cat([output_ids, next_token], dim=1)\n",
    "\n",
    "            # Stop if EOS token\n",
    "            if next_token.item() in {tokenizer.eos_token_id, tokenizer.convert_tokens_to_ids('<|eot_id|>')}:\n",
    "                break\n",
    "\n",
    "    # 2. Decode ONLY the generated tokens\n",
    "    generated_tokens = output_ids[:, num_input_tokens:]\n",
    "    generated_answer = tokenizer.decode(generated_tokens[0], skip_special_tokens=False)\n",
    "\n",
    "    clean_up(past_key_values, kv_len)\n",
    "    return generated_answer, num_input_tokens\n",
    "\n",
    "\n",
    "def preprocess_knowledge(\n",
    "    model,\n",
    "    tokenizer,\n",
    "    chat: list[dict],\n",
    ") -> DynamicCache:\n",
    "    \"\"\"\n",
    "    Prepare knowledge kv cache for CAG.\n",
    "\n",
    "    Args:\n",
    "        model: HuggingFace model with automatic device mapping\n",
    "        tokenizer: HuggingFace tokenizer\n",
    "        prompt: The knowledge to preprocess, which is basically a prompt\n",
    "\n",
    "    Returns:\n",
    "        DynamicCache: KV Cache\n",
    "    \"\"\"\n",
    "    # Chat template with add_generation_prompt parameter\n",
    "    input_tokens = tokenizer.apply_chat_template(\n",
    "        chat,\n",
    "        tokenize=True,\n",
    "        return_dict=True,\n",
    "        continue_final_message=True,\n",
    "        return_tensors='pt'\n",
    "    )\n",
    "    input_ids = input_tokens[\"input_ids\"].to(device)\n",
    "    past_key_values = DynamicCache()\n",
    "    with torch.no_grad():\n",
    "        outputs = model(\n",
    "            input_ids=input_ids,\n",
    "            past_key_values=past_key_values,\n",
    "            use_cache=True,\n",
    "            output_attentions=False,\n",
    "            output_hidden_states=False\n",
    "        )\n",
    "    return outputs.past_key_values"
   ]
  },
  {
   "cell_type": "markdown",
   "id": "763763a6-79a1-4916-8b12-e9b32ca2bb5b",
   "metadata": {},
   "source": [
    "### Результат генерації"
   ]
  },
  {
   "cell_type": "code",
   "execution_count": 14,
   "id": "1596e9da-4749-4ebc-9db8-8ff9e2766ab7",
   "metadata": {},
   "outputs": [],
   "source": [
    "chat = [\n",
    "    {\"role\": \"system\", \"content\": SYSTEM_PROMPT_WITH_CONTEXT},\n",
    "    {\"role\": \"user\", \"content\": \"Question:\"}\n",
    "]\n",
    "# Створення кешу з використанням chat_templates та add_generation_prompt параметром.\n",
    "# Параметр add_generation_prompt додає в шаблон спеціальні токени для відповіді асистента.\n",
    "past_key_values = preprocess_knowledge(model_4bit, tokenizer, chat)"
   ]
  },
  {
   "cell_type": "code",
   "execution_count": 15,
   "id": "a95a7fc6-160e-4bbd-96b8-852f6ee8ecb9",
   "metadata": {},
   "outputs": [
    {
     "name": "stdout",
     "output_type": "stream",
     "text": [
      "Кількість вхідних токенів: 14\n",
      "Час на генерацію: 2.524 секунд\n",
      "Пікове використання VRAM: 6093.39 MB\n",
      "Степан Гіга український естрадний співак (тенор), композитор, народний артист України.<|eot_id|>\n"
     ]
    }
   ],
   "source": [
    "# Запит до моделі вже без chat_templates, ніби з продовження закешованого запиту.\n",
    "user_prompt = \"Who is Stepan Giga?\"\n",
    "generated_text, stats_with_CAG = measure_generation_stats(generate_completion_with_CAG)(\n",
    "    model_4bit,\n",
    "    tokenizer,\n",
    "    user_prompt,\n",
    "    past_key_values,\n",
    ")\n",
    "print(generated_text)"
   ]
  },
  {
   "cell_type": "code",
   "execution_count": 16,
   "id": "d15a6381-5488-42b7-8750-3b524a0d7685",
   "metadata": {},
   "outputs": [
    {
     "name": "stdout",
     "output_type": "stream",
     "text": [
      "Першим інструментом Степана Гіги був баян.<|eot_id|>\n"
     ]
    }
   ],
   "source": [
    "user_prompt = \"What was the first musical instrument of Stepan Giga?\"\n",
    "generated_text, _ = generate_completion_with_CAG(\n",
    "    model_4bit,\n",
    "    tokenizer,\n",
    "    user_prompt,\n",
    "    past_key_values,\n",
    ")\n",
    "print(generated_text)"
   ]
  },
  {
   "cell_type": "code",
   "execution_count": 17,
   "id": "79825ded-5711-4356-bdb3-0c9fd2478e2b",
   "metadata": {},
   "outputs": [
    {
     "name": "stdout",
     "output_type": "stream",
     "text": [
      "Найуспішнішим альбомом Степана Гіги є «Вулиця Наталі».<|eot_id|>\n"
     ]
    }
   ],
   "source": [
    "user_prompt = \"Name the most successful album of Stepan Giga.\"\n",
    "generated_text, _ = generate_completion_with_CAG(\n",
    "    model_4bit,\n",
    "    tokenizer,\n",
    "    user_prompt,\n",
    "    past_key_values,\n",
    ")\n",
    "print(generated_text)"
   ]
  },
  {
   "cell_type": "markdown",
   "id": "5f02b78c-651e-401f-ac9e-e05e0f48875f",
   "metadata": {},
   "source": [
    "# Порівняння"
   ]
  },
  {
   "cell_type": "code",
   "execution_count": 18,
   "id": "277a31f2-bcb7-4776-aeb2-4f51db086b54",
   "metadata": {},
   "outputs": [
    {
     "data": {
      "text/html": [
       "<div>\n",
       "<style scoped>\n",
       "    .dataframe tbody tr th:only-of-type {\n",
       "        vertical-align: middle;\n",
       "    }\n",
       "\n",
       "    .dataframe tbody tr th {\n",
       "        vertical-align: top;\n",
       "    }\n",
       "\n",
       "    .dataframe thead th {\n",
       "        text-align: right;\n",
       "    }\n",
       "</style>\n",
       "<table border=\"1\" class=\"dataframe\">\n",
       "  <thead>\n",
       "    <tr style=\"text-align: right;\">\n",
       "      <th></th>\n",
       "      <th>experiment_type</th>\n",
       "      <th>input_tokens</th>\n",
       "      <th>generation_time</th>\n",
       "      <th>vram</th>\n",
       "    </tr>\n",
       "  </thead>\n",
       "  <tbody>\n",
       "    <tr>\n",
       "      <th>0</th>\n",
       "      <td>context</td>\n",
       "      <td>1944</td>\n",
       "      <td>3.358254</td>\n",
       "      <td>6085.786133</td>\n",
       "    </tr>\n",
       "    <tr>\n",
       "      <th>1</th>\n",
       "      <td>RAG</td>\n",
       "      <td>250</td>\n",
       "      <td>2.071238</td>\n",
       "      <td>5901.127441</td>\n",
       "    </tr>\n",
       "    <tr>\n",
       "      <th>2</th>\n",
       "      <td>CAG</td>\n",
       "      <td>14</td>\n",
       "      <td>2.524139</td>\n",
       "      <td>6093.389160</td>\n",
       "    </tr>\n",
       "  </tbody>\n",
       "</table>\n",
       "</div>"
      ],
      "text/plain": [
       "  experiment_type  input_tokens  generation_time         vram\n",
       "0         context          1944         3.358254  6085.786133\n",
       "1             RAG           250         2.071238  5901.127441\n",
       "2             CAG            14         2.524139  6093.389160"
      ]
     },
     "execution_count": 18,
     "metadata": {},
     "output_type": "execute_result"
    }
   ],
   "source": [
    "import pandas as pd \n",
    "import matplotlib.pyplot as plt\n",
    "\n",
    "\n",
    "df_stats = pd.DataFrame([\n",
    "    {\"experiment_type\": \"context\"} | stats_with_context ,\n",
    "    {\"experiment_type\": \"RAG\"} | stats_with_RAG,\n",
    "    {\"experiment_type\": \"CAG\"} | stats_with_CAG,\n",
    "],)\n",
    "df_stats"
   ]
  },
  {
   "cell_type": "code",
   "execution_count": 19,
   "id": "d4908d1c-5b84-4e0e-af27-97f1c3dffd82",
   "metadata": {},
   "outputs": [
    {
     "data": {
      "image/png": "[encoded data removed]",
      "text/plain": [
       "<Figure size 640x480 with 1 Axes>"
      ]
     },
     "metadata": {},
     "output_type": "display_data"
    }
   ],
   "source": [
    "ax = df_stats.plot.bar(x=\"experiment_type\", y=\"generation_time\")\n",
    "ax.bar_label(ax.containers[0])\n",
    "plt.grid(axis=\"y\")"
   ]
  },
  {
   "cell_type": "code",
   "execution_count": 20,
   "id": "7a7df691-4541-46df-9620-9b9faf8d611d",
   "metadata": {},
   "outputs": [
    {
     "data": {
      "image/png": "[encoded data removed]",
      "text/plain": [
       "<Figure size 640x480 with 1 Axes>"
      ]
     },
     "metadata": {},
     "output_type": "display_data"
    }
   ],
   "source": [
    "ax = df_stats.plot.bar(x=\"experiment_type\", y=\"vram\")\n",
    "ax.bar_label(ax.containers[0])\n",
    "plt.grid(axis=\"y\")"
   ]
  },
  {
   "cell_type": "code",
   "execution_count": null,
   "id": "edefcfa9-7b2c-46a3-8051-0f43d364458c",
   "metadata": {},
   "outputs": [],
   "source": []
  }
 ],
 "metadata": {
  "kernelspec": {
   "display_name": "Python 3 (ipykernel)",
   "language": "python",
   "name": "python3"
  },
  "language_info": {
   "codemirror_mode": {
    "name": "ipython",
    "version": 3
   },
   "file_extension": ".py",
   "mimetype": "text/x-python",
   "name": "python",
   "nbconvert_exporter": "python",
   "pygments_lexer": "ipython3",
   "version": "3.10.12"
  }
 },
 "nbformat": 4,
 "nbformat_minor": 5
}
